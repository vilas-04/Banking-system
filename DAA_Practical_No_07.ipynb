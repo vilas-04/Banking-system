{
  "nbformat": 4,
  "nbformat_minor": 0,
  "metadata": {
    "colab": {
      "provenance": [],
      "authorship_tag": "ABX9TyNYvt3UfIXWHmBytuIsSaQ/",
      "include_colab_link": true
    },
    "kernelspec": {
      "name": "python3",
      "display_name": "Python 3"
    },
    "language_info": {
      "name": "python"
    }
  },
  "cells": [
    {
      "cell_type": "markdown",
      "metadata": {
        "id": "view-in-github",
        "colab_type": "text"
      },
      "source": [
        "<a href=\"https://colab.research.google.com/github/vilas-04/Banking-system/blob/main/DAA_Practical_No_07.ipynb\" target=\"_parent\"><img src=\"https://colab.research.google.com/assets/colab-badge.svg\" alt=\"Open In Colab\"/></a>"
      ]
    },
    {
      "cell_type": "code",
      "execution_count": null,
      "metadata": {
        "colab": {
          "base_uri": "https://localhost:8080/"
        },
        "id": "woevm-3guAjU",
        "outputId": "cdfdd933-a989-47b3-8bea-b84b5374b16b"
      },
      "outputs": [
        {
          "output_type": "stream",
          "name": "stdout",
          "text": [
            "Total number of elements: 1000\n",
            "Time taken: 0.004857 seconds\n",
            "Time Complexity: O(n log n) on average\n"
          ]
        }
      ],
      "source": [
        "import random\n",
        "import time\n",
        "\n",
        "def randomized_partition(arr, low, high):\n",
        "    pivot_index = random.randint(low, high)\n",
        "    arr[pivot_index], arr[high] = arr[high], arr[pivot_index]  # Swap pivot with last element\n",
        "    pivot = arr[high]\n",
        "\n",
        "    i = low - 1\n",
        "    for j in range(low, high):\n",
        "        if arr[j] <= pivot:\n",
        "            i += 1\n",
        "            arr[i], arr[j] = arr[j], arr[i]\n",
        "\n",
        "    arr[i + 1], arr[high] = arr[high], arr[i + 1]  # Place pivot in the correct position\n",
        "    return i + 1\n",
        "\n",
        "def randomized_quick_sort(arr, low, high):\n",
        "    if low < high:\n",
        "        pivot_index = randomized_partition(arr, low, high)\n",
        "        randomized_quick_sort(arr, low, pivot_index - 1)\n",
        "        randomized_quick_sort(arr, pivot_index + 1, high)\n",
        "\n",
        "def measure_time_complexity_quick_sort(n):\n",
        "    random_array = [random.randint(1, 10000) for _ in range(n)]\n",
        "\n",
        "    start_time = time.time()\n",
        "    randomized_quick_sort(random_array, 0, len(random_array) - 1)\n",
        "    end_time = time.time()\n",
        "\n",
        "    time_taken = end_time - start_time\n",
        "    return time_taken\n",
        "\n",
        "if __name__ == \"__main__\":\n",
        "    n = 1000\n",
        "    time_taken = measure_time_complexity_quick_sort(n)\n",
        "\n",
        "    print(f\"Total number of elements: {n}\")\n",
        "    print(f\"Time taken: {time_taken:.6f} seconds\")\n",
        "    print(\"Time Complexity: O(n log n) on average\")\n",
        "\n"
      ]
    }
  ]
}